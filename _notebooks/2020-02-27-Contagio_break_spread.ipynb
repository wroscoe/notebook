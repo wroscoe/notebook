{
 "cells": [
  {
   "cell_type": "markdown",
   "metadata": {},
   "source": [
    "# How we could have broken the chain that caused the Contagion virus to spread.\n",
    "> Many ways the virus from the Contagion movie could have been stopped.\n",
    "\n",
    "- toc: false \n",
    "- badges: false \n",
    "- comments: false\n",
    "- categories: [movie, health, coronavirus]\n",
    "- permalink: /contagion_break_spread.html\n",
    "- image: /images/copied_from_nb/my_images/contagion_sequence.png\n"
   ]
  },
  {
   "cell_type": "markdown",
   "metadata": {},
   "source": [
    "As the coronavirus spreads into a pandemic, I watched Contagion to lighten mood. \n",
    "\n",
    "Spoiler Alert! \n",
    "\n",
    "\n",
    "![\"Contagion Sequence\"](my_images/contagion_sequence.png)\n",
    "\n",
    "At the end of the movie the sequence showing the path the virus took from animal to human. It became obvious that at each step there was a way that it could have been prevented. \n",
    "1. Build a pig pen that keeps bats out. \n",
    "2. The pig could have been butchered before it was in the kitchen next to guests.\n",
    "3. The could could have washed his hands.\n",
    "4. The cook could have avoided holding hands with somewone else.\n",
    "5. The guest (patient 1) could have washed her hands after shaking hands with the cook.\n",
    "\n",
    "Any one of these would have stopped the spread and broken the chain. After this 5 other people were infected so there are 5 other chains that need to be broken. \n",
    "\n",
    "Once a virus becomes a pandemic we must think about how to systematically break the chain. This can be done as people build of their immunities either after the recover from the virus or with a vaccine. However everyone can contribute to breaking the links of the spread by limiting their exposure and improving their hygiene.  Here is a video from John Campbell \n",
    "\n",
    "> youtube: https://www.youtube.com/watch?v=TpXoY_1EG8Y"
   ]
  },
  {
   "cell_type": "markdown",
   "metadata": {},
   "source": [
    "![\"Contagion Sequence\"](my_images/contagion_sequence.png)"
   ]
  }
 ],
 "metadata": {
  "kernelspec": {
   "display_name": "Python 3",
   "language": "python",
   "name": "python3"
  },
  "language_info": {
   "codemirror_mode": {
    "name": "ipython",
    "version": 3
   },
   "file_extension": ".py",
   "mimetype": "text/x-python",
   "name": "python",
   "nbconvert_exporter": "python",
   "pygments_lexer": "ipython3",
   "version": "3.7.6"
  }
 },
 "nbformat": 4,
 "nbformat_minor": 4
}
