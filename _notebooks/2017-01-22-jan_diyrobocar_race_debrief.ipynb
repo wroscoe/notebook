{
 "cells": [
  {
   "cell_type": "markdown",
   "metadata": {},
   "source": [
    "# January 2017 DIYRobocar Race Debrief\n",
    "> How to not use your time at the next DIYRobocar race. Lessons learned from my first race.\n",
    "\n",
    "- toc: false \n",
    "- badges: false\n",
    "- comments: false\n",
    "- categories: [donkeycar, tensorflow, deeplearing, devops]"
   ]
  },
  {
   "cell_type": "markdown",
   "metadata": {},
   "source": [
    "!['Adam Driving his donkey.'](../images/donkeycar/adam_driving.jpeg)\n"
   ]
  },
  {
   "cell_type": "markdown",
   "metadata": {},
   "source": [
    "Lessons learned from the last [DIYRobocar race](https://www.meetup.com/DIYRobocars/events/236393485/). \n",
    "\n",
    "Overall today was a success given that two [Donkey controlled](https://github.com/wroscoe/donkey) vehicles did at least one completely autonomous lap prior to race time. This is a big improvement from the same event 3 months ago when we worked on Adams car all day to get it to lurch forward and turn right. This is short debrief of what I learned this weekend to help guide our next efforts to make Donkey a better library for training autopilots for these races.\n",
    "\n",
    "** Of course, after the race the driving problems became obvious. **\n",
    "\n",
    "1. The vehicle drive loop was only updating every 1/5th of a second but should have been updating every 1/15th of a second or more frequently. This meant we didn’t collect very much training data and the autopilot didn’t update often. \n",
    "2. Training data was not cleaned. We didn’t have a good way to view the training data on the ec2 instance so we could not see that there we were using training data that included bad steering, and even images when the vehicle had been picked up."
   ]
  },
  {
   "cell_type": "markdown",
   "metadata": {},
   "source": [
    "### Beyond bugs, how can do better at these races?\n",
    "\n",
    "On a race day, we have 4-6 hours to take a proven car and autopilot and train it to perform on a new track. The more efficiently we can improve the autopilot performance the better we’ll do. Here’s an overview problems I saw today and proposals how to fix them.  Specific issues and solutions live in github issues.\n",
    "\n",
    "#### Many steps are required to update an driving model. \n",
    "At one point today I had 20+ terminal windows open because changing the autopilot requires many useless “plumbing” steps. These steps can be automated or made easier with command line arguments or web interface. \n",
    "* Switching models requires restarting the server\n",
    "* It's difficult to remember which session was the good session. \n",
    "* Combining sessions is a separate script. \n",
    "\n",
    "#### Driving is required to test models. \n",
    "Since updating and driving an autopilot takes time, we need to make sure that our changes actually improve the autopilot before we test it on the track. A trusted performance measurement is needed at the time of training. This could be a combination of the error on a validation dataset and a visual showing how closely predicted values were to actual. \n",
    "\n",
    "#### There is no way to debug an autopilot. \n",
    "Currently an autopilot either works or it doesn’t. Driving performance are the only clues to help us understand what’s going wrong. Helpful clues would include:\n",
    "Adding a visual showing what the network is queuing off of would help.\n",
    "Lag times\n",
    "Predicted vs actual overlaid on image. \n",
    "\n",
    "#### Common problems that don’t have obvious solutions. \n",
    "Even after a common problem has been identified, there’s no standard solution to fix the problem. “Agile training” could be used to correct the autopilot by creating more training data where the autopilot fails. \n",
    "* Vehicle doesn’t turn sharp enough.\n",
    "* Vehicle doesn’t turn at all on a corner.\n",
    "* Vehicle goes to slow.\n",
    "\n",
    "#### There is no easy way to clean training data on a remote instance. \n",
    "Training on bad data makes bad autopilots. To learn where bad training data exists you need to see the image the recorded steering values, This is impossible on a CLI but would be possible through a web interface. \n"
   ]
  },
  {
   "cell_type": "markdown",
   "metadata": {},
   "source": [
    "\n",
    "There are other improvements we can make but these are the big unsexy ones that will help most. \n",
    "\n",
    "Also, get a friend to build a car. Build a [Donkey](https://github.com/wroscoe/donkey) or any of the other reference builds on [DIYRobocars](http://diyrobocars.com/). \n",
    "\n",
    "\n",
    "Let the fleet learning begin.\n"
   ]
  },
  {
   "cell_type": "markdown",
   "metadata": {},
   "source": [
    "![Virtual Joystick](../images/donkeycar/virtual_joystick.jpeg)"
   ]
  },
  {
   "cell_type": "markdown",
   "metadata": {},
   "source": [
    "Using donkey to control my car from a website using a javascript joystick. "
   ]
  },
  {
   "cell_type": "code",
   "execution_count": null,
   "metadata": {
    "collapsed": true
   },
   "outputs": [],
   "source": []
  }
 ],
 "metadata": {
  "kernelspec": {
   "display_name": "Python 3",
   "language": "python",
   "name": "python3"
  },
  "language_info": {
   "codemirror_mode": {
    "name": "ipython",
    "version": 3
   },
   "file_extension": ".py",
   "mimetype": "text/x-python",
   "name": "python",
   "nbconvert_exporter": "python",
   "pygments_lexer": "ipython3",
   "version": "3.7.6"
  }
 },
 "nbformat": 4,
 "nbformat_minor": 2
}
