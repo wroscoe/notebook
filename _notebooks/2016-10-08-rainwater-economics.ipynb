{
 "cells": [
  {
   "cell_type": "markdown",
   "metadata": {},
   "source": [
    "# Urban Rainwater Economics\n",
    "> A model and simulation to see the size of tank needed to safe rainwater for the garden. Also a look at the economics of saving water.\n",
    "\n",
    "- toc: false \n",
    "- badges: false\n",
    "- comments: false\n",
    "- categories: [water, economics]"
   ]
  },
  {
   "cell_type": "markdown",
   "metadata": {},
   "source": [
    "This is a quick simulation to see how a rainwater collection system would work on my house in Oakland. You can edit the values to see what how the sytem would work for your house. "
   ]
  },
  {
   "cell_type": "markdown",
   "metadata": {},
   "source": [
    "First lets define the essential parts of our rainwater system.\n",
    "\n",
    "* **rainfall** - rain that falls on an area (inches)\n",
    "* **stored water** - water stored for later use (gallons)\n",
    "* **collection area** - space availible to collect rainwater (square feet)\n",
    "* **irrigation** - water used on crops (inches or gallons)\n",
    "* **irrigated area** - area that needs irrigation"
   ]
  },
  {
   "cell_type": "markdown",
   "metadata": {},
   "source": [
    "We'll simulate how the system changes over time to see what size of water tank would be needed to store all the rainwater. Second we'll look ot see if it makes economic sense to store the rain water. "
   ]
  },
  {
   "cell_type": "markdown",
   "metadata": {},
   "source": [
    "## Rainwater Availible\n",
    "My house is a two story house with a roof area of about 800 feet. I've used the average inches of rainfall per month from weather.com."
   ]
  },
  {
   "cell_type": "code",
   "execution_count": 12,
   "metadata": {},
   "outputs": [],
   "source": [
    "#months used to plot\n",
    "months = ['Jan', 'Feb', 'Mar', 'Apr', 'May', 'Jun', \n",
    "          'Jul', 'Aug', 'Sep', 'Oct', 'Nov', 'Dec']\n",
    "\n",
    "collection_area = 800 #sqft of where you collect rain\n",
    "\n",
    "#inches of rain per area\n",
    "rainfall =    [2,   1,     .5,    .5,    .5,    1,     \n",
    "               1,     1,     1,     3,     8,     8 ]\n"
   ]
  },
  {
   "cell_type": "code",
   "execution_count": 13,
   "metadata": {},
   "outputs": [
    {
     "data": {
      "text/plain": [
       "[997, 498, 249, 249, 249, 498, 498, 498, 498, 1496, 3989, 3989]"
      ]
     },
     "execution_count": 13,
     "metadata": {},
     "output_type": "execute_result"
    }
   ],
   "source": [
    "# return the gallons equivalent to inches of rain falling on an area\n",
    "def in_to_gal(inches, sqft): return inches * sqft * 144 * 0.004329\n",
    "\n",
    "rain_collected  = [int(in_to_gal(i, collection_area)) for i in rainfall]\n",
    "rain_collected"
   ]
  },
  {
   "cell_type": "markdown",
   "metadata": {},
   "source": []
  },
  {
   "cell_type": "markdown",
   "metadata": {},
   "source": [
    "## Water Use\n",
    "\n",
    "The amount of water needed depends on the area to irrigate, and the rainfall and temperature of the location. For this example the i'm assuming that my garden needs 9 inches of irrigation per month during the hottest months. \n",
    "\n",
    "In Oakland it is 20 degrees warmer in the summer which causes more water to be evaporated from the soil and plants. To account for this we apply a seasonal scale to lower the irrigation demand in the winder."
   ]
  },
  {
   "cell_type": "code",
   "execution_count": 18,
   "metadata": {},
   "outputs": [],
   "source": [
    "irrigation_area = 400 #sqft\n",
    "\n",
    "max_irrigation_demand = 9.0 #water needed during hot months inches per month\n",
    "season_scale = [.3, .4, .4, .5, .6, .8, 1., 1., 1., .8, .6, .5]\n",
    "\n",
    "irrigation_demand = [i * max_irrigation_demand for i in season_scale]"
   ]
  },
  {
   "cell_type": "code",
   "execution_count": 19,
   "metadata": {},
   "outputs": [],
   "source": [
    "#irrigation is not needed when it rains\n",
    "irrigation_used =  [max(irrigation_demand[i] - rain_inches[i], 0) for i in  range(12) ]\n",
    "\n",
    "#convert to gallons\n",
    "irrigation_used = [in_to_gal(irrigation_used[i], irrigation_area) for i in range(12)]"
   ]
  },
  {
   "cell_type": "markdown",
   "metadata": {},
   "source": [
    "### Visualize\n",
    "We can see plot these supply and demand curves to see that they do not happen at the same times."
   ]
  },
  {
   "cell_type": "code",
   "execution_count": 5,
   "metadata": {},
   "outputs": [
    {
     "data": {
      "text/plain": [
       "<matplotlib.axes._subplots.AxesSubplot at 0x7fc968a1d940>"
      ]
     },
     "execution_count": 5,
     "metadata": {},
     "output_type": "execute_result"
    },
    {
     "data": {
      "image/png": "[encoded data removed]",
      "text/plain": [
       "<matplotlib.figure.Figure at 0x7fc968a1d048>"
      ]
     },
     "metadata": {},
     "output_type": "display_data"
    }
   ],
   "source": [
    "%matplotlib inline\n",
    "import pandas as pd\n",
    "\n",
    "df = pd.DataFrame({'rain':rain, 'irrigation': irrigation_used})\n",
    "df.plot()"
   ]
  },
  {
   "cell_type": "markdown",
   "metadata": {},
   "source": [
    "# Simulate\n",
    "Here we create a function to simulate a system that saves the rainwater and is used later. At first we'll assume that our tank can hold 1000 gallons."
   ]
  },
  {
   "cell_type": "code",
   "execution_count": 20,
   "metadata": {},
   "outputs": [],
   "source": [
    "from copy import deepcopy\n",
    "\n",
    "stored_history = []\n",
    "stored = 0\n",
    "\n",
    "def run_year(stored, tank_size=1000):\n",
    "    for i, m in enumerate(months):\n",
    "\n",
    "        #keep the rain \n",
    "        stored = max(stored - irrigation_used[i] + rain[i], 0)\n",
    "        \n",
    "        #only keep the water that fits\n",
    "        stored = min(stored, tank_size)\n",
    "\n",
    "        #record stored value for later\n",
    "        stored_history.append(deepcopy(stored))\n",
    "\n",
    "    return stored"
   ]
  },
  {
   "cell_type": "markdown",
   "metadata": {},
   "source": [
    "Now we run simulation for a year and visualize the results"
   ]
  },
  {
   "cell_type": "code",
   "execution_count": 7,
   "metadata": {},
   "outputs": [
    {
     "data": {
      "text/plain": [
       "<matplotlib.axes._subplots.AxesSubplot at 0x7fc9667807b8>"
      ]
     },
     "execution_count": 7,
     "metadata": {},
     "output_type": "execute_result"
    },
    {
     "data": {
      "image/png": "[encoded data removed]",
      "text/plain": [
       "<matplotlib.figure.Figure at 0x7fc9667cda58>"
      ]
     },
     "metadata": {},
     "output_type": "display_data"
    }
   ],
   "source": [
    "stored = run_year(stored)\n",
    "\n",
    "data = {'rain': rain, 'irrigation':irrigation_used, \n",
    "        'stored':stored_history}\n",
    "\n",
    "df = pd.DataFrame(data, index=months)\n",
    "df.plot(kind='bar')"
   ]
  },
  {
   "cell_type": "markdown",
   "metadata": {},
   "source": [
    "This graph shows that our 1000 gallon tank is not close to big enough. So, we'll rerun the simulation to find the right size tank.  \n"
   ]
  },
  {
   "cell_type": "code",
   "execution_count": 21,
   "metadata": {},
   "outputs": [
    {
     "name": "stdout",
     "output_type": "stream",
     "text": [
      "7940\n"
     ]
    },
    {
     "data": {
      "text/plain": [
       "<matplotlib.axes._subplots.AxesSubplot at 0x7fc9662def98>"
      ]
     },
     "execution_count": 21,
     "metadata": {},
     "output_type": "execute_result"
    },
    {
     "data": {
      "image/png": "[encoded data removed]",
      "text/plain": [
       "<matplotlib.figure.Figure at 0x7fc9666584e0>"
      ]
     },
     "metadata": {},
     "output_type": "display_data"
    }
   ],
   "source": [
    "tank_size = 0\n",
    "stored=0\n",
    "min_stored = 0 #used to check if tank gets empty during the year\n",
    "\n",
    "while min_stored <= 0: \n",
    "    tank_size += 10\n",
    "    stored = run_year(stored, tank_size=tank_size)\n",
    "    min_stored = min(stored_history[-12:])\n",
    "\n",
    "print(tank_size)\n",
    "\n",
    "data = {'rain': rain, 'irrigation':irrigation_used, \n",
    "        'stored':stored_history[-12:]}\n",
    "\n",
    "df = pd.DataFrame(data, index=months)\n",
    "df.plot(kind='bar')"
   ]
  },
  {
   "cell_type": "markdown",
   "metadata": {},
   "source": [
    "### How big is this tank?\n",
    "\n",
    "Where would it be possible to store this tank? "
   ]
  },
  {
   "cell_type": "code",
   "execution_count": 22,
   "metadata": {},
   "outputs": [
    {
     "data": {
      "text/plain": [
       "1061.42714"
      ]
     },
     "execution_count": 22,
     "metadata": {},
     "output_type": "execute_result"
    }
   ],
   "source": [
    "def gal_to_ft3 (gal): return gal * 0.133681\n",
    "\n",
    "gal_to_ft3(tank_size)"
   ]
  },
  {
   "cell_type": "markdown",
   "metadata": {},
   "source": [
    "#### For reference:\n",
    "* Cargo container (8ft x 8ft x 20ft):    **1290** ft^3\n",
    "* Homemade water tank (3ft x 3ft x 3ft)     **9** ft^3\n",
    "\n",
    "Turns out this is a massive tank (similar to a large truck). Lets see if it makes economic sense."
   ]
  },
  {
   "cell_type": "markdown",
   "metadata": {},
   "source": [
    "## Irrigation and tank costs\n",
    "I looked up my [EBMUD water rates](http://www.ebmud.com/water-and-drought/water-rates/) and find they charge a little over $5 for every 100 cubic feet of water I use. "
   ]
  },
  {
   "cell_type": "code",
   "execution_count": 10,
   "metadata": {},
   "outputs": [
    {
     "name": "stdout",
     "output_type": "stream",
     "text": [
      "0.007285614500000001\n"
     ]
    },
    {
     "data": {
      "text/plain": [
       "90.28854322409379"
      ]
     },
     "execution_count": 10,
     "metadata": {},
     "output_type": "execute_result"
    }
   ],
   "source": [
    "irrigation_costs = 5.45 #$ per 100 cubic feet\n",
    "\n",
    "def ft3_to_gal (cubic_feet): return cubic_feet / 0.133681\n",
    "\n",
    "irrigation_costs = irrigation_costs / ft3_to_gal(100)\n",
    "\n",
    "print(irrigation_costs)\n",
    "\n",
    "sum(irrigation_used)*irrigation_costs"
   ]
  },
  {
   "cell_type": "markdown",
   "metadata": {},
   "source": [
    "## Results\n",
    "We're done here. Given that we'd need a cargo containers to save $90 per year, we can stop this analysis with the the conclusion that it will not save money to collect rain water. \n",
    "\n",
    "So when you have this idea in a down pour, just realax and enjoy it."
   ]
  },
  {
   "cell_type": "markdown",
   "metadata": {},
   "source": [
    "![Have a nice day](http://66.media.tumblr.com/dbeb33630423165649599d7589358ac4/tumblr_npyb5cwiym1rs4x5ro1_250.gif)"
   ]
  },
  {
   "cell_type": "code",
   "execution_count": null,
   "metadata": {
    "collapsed": true
   },
   "outputs": [],
   "source": []
  }
 ],
 "metadata": {
  "kernelspec": {
   "display_name": "Python 3",
   "language": "python",
   "name": "python3"
  },
  "language_info": {
   "codemirror_mode": {
    "name": "ipython",
    "version": 3
   },
   "file_extension": ".py",
   "mimetype": "text/x-python",
   "name": "python",
   "nbconvert_exporter": "python",
   "pygments_lexer": "ipython3",
   "version": "3.7.6"
  },
  "widgets": {
   "state": {},
   "version": "1.1.2"
  }
 },
 "nbformat": 4,
 "nbformat_minor": 1
}
